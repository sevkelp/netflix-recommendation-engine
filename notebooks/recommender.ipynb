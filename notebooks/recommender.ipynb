{
 "cells": [
  {
   "cell_type": "code",
   "execution_count": 2,
   "metadata": {},
   "outputs": [],
   "source": [
    "import os\n",
    "import glob\n",
    "import numpy as np\n",
    "import pandas as pd\n",
    "import matplotlib.pyplot as plt\n",
    "import seaborn as sns\n",
    "from tqdm import tqdm\n",
    "from sklearn.model_selection import train_test_split"
   ]
  },
  {
   "cell_type": "code",
   "execution_count": 3,
   "metadata": {},
   "outputs": [],
   "source": [
    "def process_raw_file(input_filename,output_filename):\n",
    "    with open(input_filename, 'r') as raw:\n",
    "        with open(output_filename,'w') as output:\n",
    "            output.write('user_id,ratings,date,movie_id\\n')\n",
    "            movie_id = 'init'\n",
    "            for line in raw :\n",
    "                if ':' in line : movie_id = line[:-2]\n",
    "                else :\n",
    "                    to_write = line[:-1] + ',' + movie_id + '\\n'\n",
    "                    output.write(to_write)"
   ]
  },
  {
   "cell_type": "code",
   "execution_count": 4,
   "metadata": {},
   "outputs": [],
   "source": [
    "files = glob.glob('../data/raw/combined*')\n",
    "\n",
    "for i,file in enumerate(files):\n",
    "    output_filename = f'../data/processed/training{i}.csv'\n",
    "    process_raw_file(file,output_filename)"
   ]
  },
  {
   "cell_type": "code",
   "execution_count": 3,
   "metadata": {},
   "outputs": [
    {
     "data": {
      "text/html": [
       "<div>\n",
       "<style scoped>\n",
       "    .dataframe tbody tr th:only-of-type {\n",
       "        vertical-align: middle;\n",
       "    }\n",
       "\n",
       "    .dataframe tbody tr th {\n",
       "        vertical-align: top;\n",
       "    }\n",
       "\n",
       "    .dataframe thead th {\n",
       "        text-align: right;\n",
       "    }\n",
       "</style>\n",
       "<table border=\"1\" class=\"dataframe\">\n",
       "  <thead>\n",
       "    <tr style=\"text-align: right;\">\n",
       "      <th></th>\n",
       "      <th>user_id</th>\n",
       "      <th>ratings</th>\n",
       "      <th>date</th>\n",
       "      <th>movie_id</th>\n",
       "    </tr>\n",
       "  </thead>\n",
       "  <tbody>\n",
       "    <tr>\n",
       "      <th>0</th>\n",
       "      <td>2532865</td>\n",
       "      <td>4</td>\n",
       "      <td>2005-07-26</td>\n",
       "      <td>4500</td>\n",
       "    </tr>\n",
       "    <tr>\n",
       "      <th>1</th>\n",
       "      <td>573364</td>\n",
       "      <td>3</td>\n",
       "      <td>2005-06-20</td>\n",
       "      <td>4500</td>\n",
       "    </tr>\n",
       "    <tr>\n",
       "      <th>2</th>\n",
       "      <td>1696725</td>\n",
       "      <td>3</td>\n",
       "      <td>2004-02-27</td>\n",
       "      <td>4500</td>\n",
       "    </tr>\n",
       "    <tr>\n",
       "      <th>3</th>\n",
       "      <td>1253431</td>\n",
       "      <td>3</td>\n",
       "      <td>2004-03-31</td>\n",
       "      <td>4500</td>\n",
       "    </tr>\n",
       "    <tr>\n",
       "      <th>4</th>\n",
       "      <td>1265574</td>\n",
       "      <td>2</td>\n",
       "      <td>2003-09-01</td>\n",
       "      <td>4500</td>\n",
       "    </tr>\n",
       "  </tbody>\n",
       "</table>\n",
       "</div>"
      ],
      "text/plain": [
       "   user_id  ratings       date  movie_id\n",
       "0  2532865        4 2005-07-26      4500\n",
       "1   573364        3 2005-06-20      4500\n",
       "2  1696725        3 2004-02-27      4500\n",
       "3  1253431        3 2004-03-31      4500\n",
       "4  1265574        2 2003-09-01      4500"
      ]
     },
     "execution_count": 3,
     "metadata": {},
     "output_type": "execute_result"
    }
   ],
   "source": [
    "df = pd.read_csv('../data/processed/training0.csv',dtype={'user_id':'int32','ratings':'int8','date':'object','movie_id':'int32'})\n",
    "df['date'] = pd.to_datetime(df['date'])\n",
    "df.head()"
   ]
  },
  {
   "cell_type": "markdown",
   "metadata": {},
   "source": [
    "## I - Dropping data"
   ]
  },
  {
   "cell_type": "code",
   "execution_count": 67,
   "metadata": {},
   "outputs": [
    {
     "data": {
      "text/html": [
       "<div>\n",
       "<style scoped>\n",
       "    .dataframe tbody tr th:only-of-type {\n",
       "        vertical-align: middle;\n",
       "    }\n",
       "\n",
       "    .dataframe tbody tr th {\n",
       "        vertical-align: top;\n",
       "    }\n",
       "\n",
       "    .dataframe thead th {\n",
       "        text-align: right;\n",
       "    }\n",
       "</style>\n",
       "<table border=\"1\" class=\"dataframe\">\n",
       "  <thead>\n",
       "    <tr style=\"text-align: right;\">\n",
       "      <th></th>\n",
       "      <th>index</th>\n",
       "      <th>movie_id</th>\n",
       "      <th>view_count</th>\n",
       "      <th>release_date</th>\n",
       "      <th>time_available</th>\n",
       "      <th>view_count_norm</th>\n",
       "      <th>views_left</th>\n",
       "      <th>movie_left_perc</th>\n",
       "      <th>views_left_perc</th>\n",
       "    </tr>\n",
       "  </thead>\n",
       "  <tbody>\n",
       "    <tr>\n",
       "      <th>4710</th>\n",
       "      <td>4710</td>\n",
       "      <td>6393</td>\n",
       "      <td>61</td>\n",
       "      <td>2000-04-05</td>\n",
       "      <td>2096</td>\n",
       "      <td>0.029103</td>\n",
       "      <td>26977591</td>\n",
       "      <td>1.000000</td>\n",
       "      <td>1.000000</td>\n",
       "    </tr>\n",
       "    <tr>\n",
       "      <th>4709</th>\n",
       "      <td>4709</td>\n",
       "      <td>6217</td>\n",
       "      <td>64</td>\n",
       "      <td>2000-03-04</td>\n",
       "      <td>2128</td>\n",
       "      <td>0.030075</td>\n",
       "      <td>26977530</td>\n",
       "      <td>0.999788</td>\n",
       "      <td>0.999998</td>\n",
       "    </tr>\n",
       "    <tr>\n",
       "      <th>4708</th>\n",
       "      <td>4708</td>\n",
       "      <td>6425</td>\n",
       "      <td>68</td>\n",
       "      <td>2000-01-06</td>\n",
       "      <td>2186</td>\n",
       "      <td>0.031107</td>\n",
       "      <td>26977466</td>\n",
       "      <td>0.999575</td>\n",
       "      <td>0.999995</td>\n",
       "    </tr>\n",
       "    <tr>\n",
       "      <th>4707</th>\n",
       "      <td>4707</td>\n",
       "      <td>7842</td>\n",
       "      <td>56</td>\n",
       "      <td>2001-02-12</td>\n",
       "      <td>1783</td>\n",
       "      <td>0.031408</td>\n",
       "      <td>26977398</td>\n",
       "      <td>0.999363</td>\n",
       "      <td>0.999993</td>\n",
       "    </tr>\n",
       "    <tr>\n",
       "      <th>4706</th>\n",
       "      <td>4706</td>\n",
       "      <td>6765</td>\n",
       "      <td>67</td>\n",
       "      <td>2000-03-04</td>\n",
       "      <td>2128</td>\n",
       "      <td>0.031485</td>\n",
       "      <td>26977342</td>\n",
       "      <td>0.999151</td>\n",
       "      <td>0.999991</td>\n",
       "    </tr>\n",
       "  </tbody>\n",
       "</table>\n",
       "</div>"
      ],
      "text/plain": [
       "      index  movie_id  view_count release_date  time_available  \\\n",
       "4710   4710      6393          61   2000-04-05            2096   \n",
       "4709   4709      6217          64   2000-03-04            2128   \n",
       "4708   4708      6425          68   2000-01-06            2186   \n",
       "4707   4707      7842          56   2001-02-12            1783   \n",
       "4706   4706      6765          67   2000-03-04            2128   \n",
       "\n",
       "      view_count_norm  views_left  movie_left_perc  views_left_perc  \n",
       "4710         0.029103    26977591         1.000000         1.000000  \n",
       "4709         0.030075    26977530         0.999788         0.999998  \n",
       "4708         0.031107    26977466         0.999575         0.999995  \n",
       "4707         0.031408    26977398         0.999363         0.999993  \n",
       "4706         0.031485    26977342         0.999151         0.999991  "
      ]
     },
     "execution_count": 67,
     "metadata": {},
     "output_type": "execute_result"
    }
   ],
   "source": [
    "# There's too much data to pivot the table, we need to discard the movies that are the least seen\n",
    "\n",
    "# We normalise the views by the time the movie has been on the platform (in days)\n",
    "# That will be our movie importance value\n",
    "movie_views = df.groupby('movie_id').agg({'user_id':'count','date':'min'}).rename(columns={'user_id':'view_count','date':'release_date'}).reset_index()\n",
    "movie_views['time_available'] = df['date'].max() - movie_views['release_date']\n",
    "movie_views['time_available'] = movie_views['time_available'].apply(lambda x : x.days)\n",
    "movie_views['view_count_norm'] = movie_views['view_count'] / movie_views['time_available'].astype('int')\n",
    "\n",
    "# Starting with the movie that's the most successful in terms of normalised view, we count how many views remain\n",
    "# if we were to drop all the movies below (cumsum) and later compute the % in terms of all the views\n",
    "movie_views = movie_views.sort_values('view_count_norm',ascending=False)\n",
    "movie_views = movie_views.reset_index().drop(columns='index').reset_index()\n",
    "movie_views['views_left'] = movie_views['view_count'].cumsum()\n",
    "\n",
    "# Similarily we count how many movies are left in % (we wan't to compare how many views left with how many movies left)\n",
    "movie_views['movie_left_perc'] = (movie_views['index'] + 1) / (movie_views['index'].max() + 1)\n",
    "movie_views['views_left_perc'] = movie_views['views_left'] / movie_views['view_count'].sum()\n",
    "movie_views = movie_views.sort_values('view_count_norm')\n",
    "movie_views.head()"
   ]
  },
  {
   "cell_type": "code",
   "execution_count": 73,
   "metadata": {},
   "outputs": [
    {
     "data": {
      "text/plain": [
       "<matplotlib.legend.Legend at 0x2945758b0>"
      ]
     },
     "execution_count": 73,
     "metadata": {},
     "output_type": "execute_result"
    }
   ],
   "source": [
    "# We want to drop as many movies as possible and lose as less views as possible\n",
    "# On the first plot, we are looking for the biggest distance between views left and movie left\n",
    "# Given how we set our index, we are dropping movies from right to left\n",
    "fig, axs = plt.subplots(1,1,figsize = (12,4))\n",
    "sns.scatterplot(data=movie_views, x='index' ,y='views_left_perc',ax=axs)\n",
    "sns.scatterplot(data=movie_views, x='index' ,y='movie_left_perc',ax=axs)\n",
    "axs.legend(['views_left_perc','movie_left_perc'])"
   ]
  },
  {
   "cell_type": "code",
   "execution_count": 83,
   "metadata": {},
   "outputs": [],
   "source": [
    "movie_views['diff_views_movie'] = movie_views['views_left_perc'] - movie_views['movie_left_perc']\n",
    "movies_to_drop = movie_views.iloc[:movie_views['diff_views_movie'].argmax()]['movie_id']"
   ]
  },
  {
   "cell_type": "code",
   "execution_count": 6,
   "metadata": {},
   "outputs": [],
   "source": [
    "def compress_data(df):\n",
    "    '''\n",
    "    Reduce amount of movies\n",
    "    Finds the optimum between :\n",
    "    - Deletting as many movies as possible\n",
    "    - Keeping as many views as possible\n",
    "    Ranks movies by importance in terms of average of daily views\n",
    "    '''\n",
    "\n",
    "    # We normalise the views by the time the movie has been on the platform (in days)\n",
    "    # That will be our movie importance value\n",
    "    movie_views = df.groupby('movie_id').agg({'user_id':'count','date':'min'}).rename(columns={'user_id':'view_count','date':'release_date'}).reset_index()\n",
    "    movie_views['time_available'] = df['date'].max() - movie_views['release_date']\n",
    "    movie_views['time_available'] = movie_views['time_available'].apply(lambda x : x.days)\n",
    "    movie_views['view_count_norm'] = movie_views['view_count'] / movie_views['time_available'].astype('int')\n",
    "\n",
    "    # Starting with the movie that's the most successful in terms of normalised view, we count how many views remain\n",
    "    # if we were to drop all the movies below (cumsum) and later compute the % in terms of all the views\n",
    "    movie_views = movie_views.sort_values('view_count_norm',ascending=False)\n",
    "    movie_views = movie_views.reset_index().drop(columns='index').reset_index()\n",
    "    movie_views['views_left'] = movie_views['view_count'].cumsum()\n",
    "\n",
    "    # Similarily we count how many movies are left in % (we wan't to compare how many views left with how many movies left)\n",
    "    movie_views['movie_left_perc'] = (movie_views['index'] + 1) / (movie_views['index'].max() + 1)\n",
    "    movie_views['views_left_perc'] = movie_views['views_left'] / movie_views['view_count'].sum()\n",
    "    movie_views = movie_views.sort_values('view_count_norm')\n",
    "\n",
    "    # Find the difference between views left (%) and movies left (%)\n",
    "    movie_views['diff_views_movie'] = movie_views['views_left_perc'] - movie_views['movie_left_perc']\n",
    "    # Find the maximum of this difference and remove everything up to it\n",
    "    movies_to_drop = movie_views.iloc[:movie_views['diff_views_movie'].argmax()]['movie_id']\n",
    "    print('Statistics')\n",
    "    print(movie_views.iloc[movie_views['diff_views_movie'].argmax()][['movie_left_perc','views_left_perc']])\n",
    "    del movie_views\n",
    "    return df.set_index('movie_id').drop(movies_to_drop).reset_index().copy()"
   ]
  },
  {
   "cell_type": "code",
   "execution_count": 7,
   "metadata": {},
   "outputs": [
    {
     "name": "stdout",
     "output_type": "stream",
     "text": [
      "Statistics\n",
      "movie_left_perc    0.185311\n",
      "views_left_perc    0.859351\n",
      "Name: 872, dtype: object\n"
     ]
    }
   ],
   "source": [
    "df = compress_data(df)"
   ]
  },
  {
   "cell_type": "markdown",
   "metadata": {},
   "source": [
    "## II - Similarities"
   ]
  },
  {
   "cell_type": "code",
   "execution_count": 4,
   "metadata": {},
   "outputs": [
    {
     "name": "stdout",
     "output_type": "stream",
     "text": [
      "Statistics\n",
      "movie_left_perc    0.185311\n",
      "views_left_perc    0.859351\n",
      "Name: 872, dtype: object\n"
     ]
    },
    {
     "data": {
      "text/html": [
       "<div>\n",
       "<style scoped>\n",
       "    .dataframe tbody tr th:only-of-type {\n",
       "        vertical-align: middle;\n",
       "    }\n",
       "\n",
       "    .dataframe tbody tr th {\n",
       "        vertical-align: top;\n",
       "    }\n",
       "\n",
       "    .dataframe thead th {\n",
       "        text-align: right;\n",
       "    }\n",
       "</style>\n",
       "<table border=\"1\" class=\"dataframe\">\n",
       "  <thead>\n",
       "    <tr style=\"text-align: right;\">\n",
       "      <th>movie_id</th>\n",
       "      <th>4506</th>\n",
       "      <th>4507</th>\n",
       "      <th>4520</th>\n",
       "      <th>4522</th>\n",
       "      <th>4531</th>\n",
       "      <th>4533</th>\n",
       "      <th>4545</th>\n",
       "      <th>4546</th>\n",
       "      <th>4561</th>\n",
       "      <th>4570</th>\n",
       "      <th>...</th>\n",
       "      <th>9156</th>\n",
       "      <th>9160</th>\n",
       "      <th>9170</th>\n",
       "      <th>9175</th>\n",
       "      <th>9188</th>\n",
       "      <th>9189</th>\n",
       "      <th>9197</th>\n",
       "      <th>9204</th>\n",
       "      <th>9205</th>\n",
       "      <th>9208</th>\n",
       "    </tr>\n",
       "    <tr>\n",
       "      <th>user_id</th>\n",
       "      <th></th>\n",
       "      <th></th>\n",
       "      <th></th>\n",
       "      <th></th>\n",
       "      <th></th>\n",
       "      <th></th>\n",
       "      <th></th>\n",
       "      <th></th>\n",
       "      <th></th>\n",
       "      <th></th>\n",
       "      <th></th>\n",
       "      <th></th>\n",
       "      <th></th>\n",
       "      <th></th>\n",
       "      <th></th>\n",
       "      <th></th>\n",
       "      <th></th>\n",
       "      <th></th>\n",
       "      <th></th>\n",
       "      <th></th>\n",
       "      <th></th>\n",
       "    </tr>\n",
       "  </thead>\n",
       "  <tbody>\n",
       "    <tr>\n",
       "      <th>6</th>\n",
       "      <td>3.0</td>\n",
       "      <td>NaN</td>\n",
       "      <td>NaN</td>\n",
       "      <td>4.0</td>\n",
       "      <td>NaN</td>\n",
       "      <td>NaN</td>\n",
       "      <td>NaN</td>\n",
       "      <td>NaN</td>\n",
       "      <td>NaN</td>\n",
       "      <td>NaN</td>\n",
       "      <td>...</td>\n",
       "      <td>NaN</td>\n",
       "      <td>NaN</td>\n",
       "      <td>NaN</td>\n",
       "      <td>4.0</td>\n",
       "      <td>3.0</td>\n",
       "      <td>3.0</td>\n",
       "      <td>NaN</td>\n",
       "      <td>NaN</td>\n",
       "      <td>NaN</td>\n",
       "      <td>5.0</td>\n",
       "    </tr>\n",
       "    <tr>\n",
       "      <th>7</th>\n",
       "      <td>NaN</td>\n",
       "      <td>5.0</td>\n",
       "      <td>4.0</td>\n",
       "      <td>NaN</td>\n",
       "      <td>NaN</td>\n",
       "      <td>NaN</td>\n",
       "      <td>5.0</td>\n",
       "      <td>4.0</td>\n",
       "      <td>NaN</td>\n",
       "      <td>4.0</td>\n",
       "      <td>...</td>\n",
       "      <td>5.0</td>\n",
       "      <td>NaN</td>\n",
       "      <td>NaN</td>\n",
       "      <td>NaN</td>\n",
       "      <td>NaN</td>\n",
       "      <td>4.0</td>\n",
       "      <td>NaN</td>\n",
       "      <td>3.0</td>\n",
       "      <td>4.0</td>\n",
       "      <td>NaN</td>\n",
       "    </tr>\n",
       "    <tr>\n",
       "      <th>8</th>\n",
       "      <td>NaN</td>\n",
       "      <td>NaN</td>\n",
       "      <td>NaN</td>\n",
       "      <td>NaN</td>\n",
       "      <td>NaN</td>\n",
       "      <td>NaN</td>\n",
       "      <td>NaN</td>\n",
       "      <td>NaN</td>\n",
       "      <td>NaN</td>\n",
       "      <td>NaN</td>\n",
       "      <td>...</td>\n",
       "      <td>NaN</td>\n",
       "      <td>NaN</td>\n",
       "      <td>NaN</td>\n",
       "      <td>NaN</td>\n",
       "      <td>NaN</td>\n",
       "      <td>NaN</td>\n",
       "      <td>NaN</td>\n",
       "      <td>NaN</td>\n",
       "      <td>4.0</td>\n",
       "      <td>NaN</td>\n",
       "    </tr>\n",
       "    <tr>\n",
       "      <th>10</th>\n",
       "      <td>NaN</td>\n",
       "      <td>NaN</td>\n",
       "      <td>NaN</td>\n",
       "      <td>NaN</td>\n",
       "      <td>NaN</td>\n",
       "      <td>NaN</td>\n",
       "      <td>NaN</td>\n",
       "      <td>NaN</td>\n",
       "      <td>NaN</td>\n",
       "      <td>NaN</td>\n",
       "      <td>...</td>\n",
       "      <td>2.0</td>\n",
       "      <td>NaN</td>\n",
       "      <td>3.0</td>\n",
       "      <td>NaN</td>\n",
       "      <td>NaN</td>\n",
       "      <td>3.0</td>\n",
       "      <td>NaN</td>\n",
       "      <td>NaN</td>\n",
       "      <td>NaN</td>\n",
       "      <td>NaN</td>\n",
       "    </tr>\n",
       "    <tr>\n",
       "      <th>25</th>\n",
       "      <td>NaN</td>\n",
       "      <td>NaN</td>\n",
       "      <td>NaN</td>\n",
       "      <td>NaN</td>\n",
       "      <td>NaN</td>\n",
       "      <td>NaN</td>\n",
       "      <td>NaN</td>\n",
       "      <td>NaN</td>\n",
       "      <td>NaN</td>\n",
       "      <td>NaN</td>\n",
       "      <td>...</td>\n",
       "      <td>NaN</td>\n",
       "      <td>NaN</td>\n",
       "      <td>NaN</td>\n",
       "      <td>NaN</td>\n",
       "      <td>NaN</td>\n",
       "      <td>NaN</td>\n",
       "      <td>NaN</td>\n",
       "      <td>NaN</td>\n",
       "      <td>NaN</td>\n",
       "      <td>NaN</td>\n",
       "    </tr>\n",
       "  </tbody>\n",
       "</table>\n",
       "<p>5 rows × 873 columns</p>\n",
       "</div>"
      ],
      "text/plain": [
       "movie_id  4506  4507  4520  4522  4531  4533  4545  4546  4561  4570  ...  \\\n",
       "user_id                                                               ...   \n",
       "6          3.0   NaN   NaN   4.0   NaN   NaN   NaN   NaN   NaN   NaN  ...   \n",
       "7          NaN   5.0   4.0   NaN   NaN   NaN   5.0   4.0   NaN   4.0  ...   \n",
       "8          NaN   NaN   NaN   NaN   NaN   NaN   NaN   NaN   NaN   NaN  ...   \n",
       "10         NaN   NaN   NaN   NaN   NaN   NaN   NaN   NaN   NaN   NaN  ...   \n",
       "25         NaN   NaN   NaN   NaN   NaN   NaN   NaN   NaN   NaN   NaN  ...   \n",
       "\n",
       "movie_id  9156  9160  9170  9175  9188  9189  9197  9204  9205  9208  \n",
       "user_id                                                               \n",
       "6          NaN   NaN   NaN   4.0   3.0   3.0   NaN   NaN   NaN   5.0  \n",
       "7          5.0   NaN   NaN   NaN   NaN   4.0   NaN   3.0   4.0   NaN  \n",
       "8          NaN   NaN   NaN   NaN   NaN   NaN   NaN   NaN   4.0   NaN  \n",
       "10         2.0   NaN   3.0   NaN   NaN   3.0   NaN   NaN   NaN   NaN  \n",
       "25         NaN   NaN   NaN   NaN   NaN   NaN   NaN   NaN   NaN   NaN  \n",
       "\n",
       "[5 rows x 873 columns]"
      ]
     },
     "execution_count": 4,
     "metadata": {},
     "output_type": "execute_result"
    }
   ],
   "source": [
    "df = pd.pivot_table(df,values='ratings',index='user_id',columns='movie_id')\n",
    "df.head()"
   ]
  },
  {
   "cell_type": "code",
   "execution_count": 50,
   "metadata": {},
   "outputs": [
    {
     "data": {
      "text/plain": [
       "0    13.0\n",
       "dtype: float64"
      ]
     },
     "execution_count": 50,
     "metadata": {},
     "output_type": "execute_result"
    }
   ],
   "source": [
    "test1 = pd.DataFrame(np.array([np.nan,2,3]))\n",
    "test2 = pd.DataFrame(np.array([1,np.nan,2]))\n",
    "np.dot(test1[0].fillna(0),test2[0].fillna(0))\n",
    "np.square(test1).sum()"
   ]
  },
  {
   "cell_type": "code",
   "execution_count": 128,
   "metadata": {},
   "outputs": [
    {
     "data": {
      "text/plain": [
       "(48, 873)"
      ]
     },
     "execution_count": 128,
     "metadata": {},
     "output_type": "execute_result"
    }
   ],
   "source": [
    "X_train,X_test = train_test_split(df,test_size=0.0001)\n",
    "X_test.shape"
   ]
  },
  {
   "cell_type": "code",
   "execution_count": 137,
   "metadata": {},
   "outputs": [],
   "source": [
    "def cosine_similarity(user:pd.Series,df:pd.DataFrame)->pd.Series:\n",
    "    user = user.fillna(0).to_numpy()\n",
    "    user = user.reshape((1,len(user)))\n",
    "    user_norm = np.sqrt(np.square(user).sum())\n",
    "    norm = np.sqrt(np.square(df).sum(axis=1)).to_numpy()\n",
    "    sim = np.matmul(user,df.T.fillna(0)) / (norm * user_norm)\n",
    "    return sim\n",
    "\n",
    "def cosine_similarity_ad(user_a:pd.Series,user_b:pd.Series)->float:\n",
    "    scalar_prod = np.dot(user_a.fillna(0) - user_a.mean(),user_b.fillna(0)-user_b.mean())\n",
    "    norm_a = np.sqrt(np.square(user_a-user_a.mean()).sum())\n",
    "    norm_b = np.sqrt(np.square(user_b-user_b.mean()).sum())\n",
    "    return (scalar_prod)/(norm_a * norm_b)"
   ]
  },
  {
   "cell_type": "code",
   "execution_count": 31,
   "metadata": {},
   "outputs": [],
   "source": [
    "def compute_similarity(user,method,df):\n",
    "    return df.apply(lambda x : method(user, x),axis=1)"
   ]
  },
  {
   "cell_type": "code",
   "execution_count": 138,
   "metadata": {},
   "outputs": [],
   "source": [
    "def predict_score_mc(user,df):\n",
    "    '''\n",
    "    Predic score using the mean-centered formula\n",
    "    '''\n",
    "    sim = cosine_similarity(user,df).fillna(0).to_numpy()\n",
    "    av_score = df.mean().to_numpy()\n",
    "    av_score = av_score.reshape((1,len(av_score)))\n",
    "    centered_score = df - df.mean()\n",
    "\n",
    "    predicted_score = np.matmul(sim,centered_score.fillna(0).to_numpy())\n",
    "    predicted_score = av_score + (predicted_score / np.abs(sim).sum())\n",
    "    return pd.DataFrame(predicted_score,columns=df.columns)"
   ]
  },
  {
   "cell_type": "code",
   "execution_count": 98,
   "metadata": {},
   "outputs": [],
   "source": [
    "def predict_score_ws(sim,df):\n",
    "    '''\n",
    "    Predict score using weighted sum\n",
    "    '''\n",
    "    scores = []\n",
    "    for col_name in df.columns :\n",
    "        col = df[col_name]\n",
    "        ones = col / col\n",
    "        score = np.dot(col.fillna(0),sim)\n",
    "        score = score / (np.dot(ones.fillna(0),sim)).sum()\n",
    "        scores.append(score)\n",
    "    return pd.Series(scores,index=df.columns)"
   ]
  },
  {
   "cell_type": "code",
   "execution_count": 140,
   "metadata": {},
   "outputs": [
    {
     "name": "stderr",
     "output_type": "stream",
     "text": [
      "100%|██████████| 10/10 [04:20<00:00, 26.05s/it]\n"
     ]
    }
   ],
   "source": [
    "maes = []\n",
    "for idx in tqdm(range(10)):\n",
    "    user = X_test.iloc[idx]\n",
    "    scores = predict_score_mc(user,X_train)\n",
    "    mae = np.abs(scores.iloc[0] - user).mean()\n",
    "    maes.append(mae)"
   ]
  },
  {
   "cell_type": "code",
   "execution_count": 145,
   "metadata": {},
   "outputs": [
    {
     "data": {
      "text/plain": [
       "1.2"
      ]
     },
     "execution_count": 145,
     "metadata": {},
     "output_type": "execute_result"
    }
   ],
   "source": [
    "np.round(maes).mean()"
   ]
  },
  {
   "cell_type": "markdown",
   "metadata": {},
   "source": [
    "# II - Matrix factorisation\n",
    "Alternating least squares"
   ]
  },
  {
   "cell_type": "code",
   "execution_count": 4,
   "metadata": {},
   "outputs": [],
   "source": [
    "from sklearn.linear_model import LinearRegression"
   ]
  },
  {
   "cell_type": "code",
   "execution_count": 21,
   "metadata": {},
   "outputs": [],
   "source": [
    "class inv_linearRegression():\n",
    "    def __init__(self,epochs,step) -> None:\n",
    "        self.epochs = epochs\n",
    "        self.step_size = step\n",
    "        self.coef_ = None\n",
    "    def fit(self,X,y):\n",
    "        '''\n",
    "        Solves -> theta X = y\n",
    "        '''\n",
    "        if self.coef_ == None:\n",
    "            self.coef_ = np.random.random((y.shape[0],X.shape[0]))\n",
    "        for _ in tqdm(range(self.epochs)):\n",
    "            y_hat = np.matmul(self.coef_,X)\n",
    "            error = y-y_hat\n",
    "            print('error : ',error.shape)\n",
    "            loss = np.sqrt(np.square(error).sum()) / (2*(y.shape[0]))\n",
    "            #loss_p = - ( ( A.T ).dot( y.reshape((len(y),1)) - y_hat )  ) / len(y)\n",
    "            print('y : ',y.shape)\n",
    "            print('y_hat : ',y_hat.shape)\n",
    "            print('X : ',X.shape)\n",
    "            loss_p = -(np.matmul(error,X.T)) / y.shape[0]\n",
    "            print('loss_p : ',loss_p.shape)\n",
    "\n",
    "            self.coef_ -= self.step_size * loss_p\n",
    "            print('coef : ',self.coef_.shape)\n",
    "        return self.coef_"
   ]
  },
  {
   "cell_type": "code",
   "execution_count": 8,
   "metadata": {},
   "outputs": [
    {
     "data": {
      "text/html": [
       "<div>\n",
       "<style scoped>\n",
       "    .dataframe tbody tr th:only-of-type {\n",
       "        vertical-align: middle;\n",
       "    }\n",
       "\n",
       "    .dataframe tbody tr th {\n",
       "        vertical-align: top;\n",
       "    }\n",
       "\n",
       "    .dataframe thead th {\n",
       "        text-align: right;\n",
       "    }\n",
       "</style>\n",
       "<table border=\"1\" class=\"dataframe\">\n",
       "  <thead>\n",
       "    <tr style=\"text-align: right;\">\n",
       "      <th>movie_id</th>\n",
       "      <th>4506</th>\n",
       "      <th>4507</th>\n",
       "      <th>4520</th>\n",
       "      <th>4522</th>\n",
       "      <th>4531</th>\n",
       "      <th>4533</th>\n",
       "      <th>4545</th>\n",
       "      <th>4546</th>\n",
       "      <th>4561</th>\n",
       "      <th>4570</th>\n",
       "      <th>...</th>\n",
       "      <th>9156</th>\n",
       "      <th>9160</th>\n",
       "      <th>9170</th>\n",
       "      <th>9175</th>\n",
       "      <th>9188</th>\n",
       "      <th>9189</th>\n",
       "      <th>9197</th>\n",
       "      <th>9204</th>\n",
       "      <th>9205</th>\n",
       "      <th>9208</th>\n",
       "    </tr>\n",
       "    <tr>\n",
       "      <th>user_id</th>\n",
       "      <th></th>\n",
       "      <th></th>\n",
       "      <th></th>\n",
       "      <th></th>\n",
       "      <th></th>\n",
       "      <th></th>\n",
       "      <th></th>\n",
       "      <th></th>\n",
       "      <th></th>\n",
       "      <th></th>\n",
       "      <th></th>\n",
       "      <th></th>\n",
       "      <th></th>\n",
       "      <th></th>\n",
       "      <th></th>\n",
       "      <th></th>\n",
       "      <th></th>\n",
       "      <th></th>\n",
       "      <th></th>\n",
       "      <th></th>\n",
       "      <th></th>\n",
       "    </tr>\n",
       "  </thead>\n",
       "  <tbody>\n",
       "    <tr>\n",
       "      <th>6</th>\n",
       "      <td>3.0</td>\n",
       "      <td>NaN</td>\n",
       "      <td>NaN</td>\n",
       "      <td>4.0</td>\n",
       "      <td>NaN</td>\n",
       "      <td>NaN</td>\n",
       "      <td>NaN</td>\n",
       "      <td>NaN</td>\n",
       "      <td>NaN</td>\n",
       "      <td>NaN</td>\n",
       "      <td>...</td>\n",
       "      <td>NaN</td>\n",
       "      <td>NaN</td>\n",
       "      <td>NaN</td>\n",
       "      <td>4.0</td>\n",
       "      <td>3.0</td>\n",
       "      <td>3.0</td>\n",
       "      <td>NaN</td>\n",
       "      <td>NaN</td>\n",
       "      <td>NaN</td>\n",
       "      <td>5.0</td>\n",
       "    </tr>\n",
       "    <tr>\n",
       "      <th>7</th>\n",
       "      <td>NaN</td>\n",
       "      <td>5.0</td>\n",
       "      <td>4.0</td>\n",
       "      <td>NaN</td>\n",
       "      <td>NaN</td>\n",
       "      <td>NaN</td>\n",
       "      <td>5.0</td>\n",
       "      <td>4.0</td>\n",
       "      <td>NaN</td>\n",
       "      <td>4.0</td>\n",
       "      <td>...</td>\n",
       "      <td>5.0</td>\n",
       "      <td>NaN</td>\n",
       "      <td>NaN</td>\n",
       "      <td>NaN</td>\n",
       "      <td>NaN</td>\n",
       "      <td>4.0</td>\n",
       "      <td>NaN</td>\n",
       "      <td>3.0</td>\n",
       "      <td>4.0</td>\n",
       "      <td>NaN</td>\n",
       "    </tr>\n",
       "    <tr>\n",
       "      <th>8</th>\n",
       "      <td>NaN</td>\n",
       "      <td>NaN</td>\n",
       "      <td>NaN</td>\n",
       "      <td>NaN</td>\n",
       "      <td>NaN</td>\n",
       "      <td>NaN</td>\n",
       "      <td>NaN</td>\n",
       "      <td>NaN</td>\n",
       "      <td>NaN</td>\n",
       "      <td>NaN</td>\n",
       "      <td>...</td>\n",
       "      <td>NaN</td>\n",
       "      <td>NaN</td>\n",
       "      <td>NaN</td>\n",
       "      <td>NaN</td>\n",
       "      <td>NaN</td>\n",
       "      <td>NaN</td>\n",
       "      <td>NaN</td>\n",
       "      <td>NaN</td>\n",
       "      <td>4.0</td>\n",
       "      <td>NaN</td>\n",
       "    </tr>\n",
       "    <tr>\n",
       "      <th>10</th>\n",
       "      <td>NaN</td>\n",
       "      <td>NaN</td>\n",
       "      <td>NaN</td>\n",
       "      <td>NaN</td>\n",
       "      <td>NaN</td>\n",
       "      <td>NaN</td>\n",
       "      <td>NaN</td>\n",
       "      <td>NaN</td>\n",
       "      <td>NaN</td>\n",
       "      <td>NaN</td>\n",
       "      <td>...</td>\n",
       "      <td>2.0</td>\n",
       "      <td>NaN</td>\n",
       "      <td>3.0</td>\n",
       "      <td>NaN</td>\n",
       "      <td>NaN</td>\n",
       "      <td>3.0</td>\n",
       "      <td>NaN</td>\n",
       "      <td>NaN</td>\n",
       "      <td>NaN</td>\n",
       "      <td>NaN</td>\n",
       "    </tr>\n",
       "    <tr>\n",
       "      <th>25</th>\n",
       "      <td>NaN</td>\n",
       "      <td>NaN</td>\n",
       "      <td>NaN</td>\n",
       "      <td>NaN</td>\n",
       "      <td>NaN</td>\n",
       "      <td>NaN</td>\n",
       "      <td>NaN</td>\n",
       "      <td>NaN</td>\n",
       "      <td>NaN</td>\n",
       "      <td>NaN</td>\n",
       "      <td>...</td>\n",
       "      <td>NaN</td>\n",
       "      <td>NaN</td>\n",
       "      <td>NaN</td>\n",
       "      <td>NaN</td>\n",
       "      <td>NaN</td>\n",
       "      <td>NaN</td>\n",
       "      <td>NaN</td>\n",
       "      <td>NaN</td>\n",
       "      <td>NaN</td>\n",
       "      <td>NaN</td>\n",
       "    </tr>\n",
       "  </tbody>\n",
       "</table>\n",
       "<p>5 rows × 873 columns</p>\n",
       "</div>"
      ],
      "text/plain": [
       "movie_id  4506  4507  4520  4522  4531  4533  4545  4546  4561  4570  ...  \\\n",
       "user_id                                                               ...   \n",
       "6          3.0   NaN   NaN   4.0   NaN   NaN   NaN   NaN   NaN   NaN  ...   \n",
       "7          NaN   5.0   4.0   NaN   NaN   NaN   5.0   4.0   NaN   4.0  ...   \n",
       "8          NaN   NaN   NaN   NaN   NaN   NaN   NaN   NaN   NaN   NaN  ...   \n",
       "10         NaN   NaN   NaN   NaN   NaN   NaN   NaN   NaN   NaN   NaN  ...   \n",
       "25         NaN   NaN   NaN   NaN   NaN   NaN   NaN   NaN   NaN   NaN  ...   \n",
       "\n",
       "movie_id  9156  9160  9170  9175  9188  9189  9197  9204  9205  9208  \n",
       "user_id                                                               \n",
       "6          NaN   NaN   NaN   4.0   3.0   3.0   NaN   NaN   NaN   5.0  \n",
       "7          5.0   NaN   NaN   NaN   NaN   4.0   NaN   3.0   4.0   NaN  \n",
       "8          NaN   NaN   NaN   NaN   NaN   NaN   NaN   NaN   4.0   NaN  \n",
       "10         2.0   NaN   3.0   NaN   NaN   3.0   NaN   NaN   NaN   NaN  \n",
       "25         NaN   NaN   NaN   NaN   NaN   NaN   NaN   NaN   NaN   NaN  \n",
       "\n",
       "[5 rows x 873 columns]"
      ]
     },
     "execution_count": 8,
     "metadata": {},
     "output_type": "execute_result"
    }
   ],
   "source": [
    "# Use Compress data -> part to eliminate if possible\n",
    "R = pd.pivot_table(df,values='ratings',index='user_id',columns='movie_id')\n",
    "R.head()"
   ]
  },
  {
   "cell_type": "code",
   "execution_count": 22,
   "metadata": {},
   "outputs": [],
   "source": [
    "latent_space = 3\n",
    "\n",
    "model_u = inv_linearRegression(epochs=1000,step=0.001)\n",
    "model_m = LinearRegression()\n",
    "\n",
    "first_user = np.random.random((R.shape[0],latent_space))\n",
    "\n",
    "for _ in range(1):\n",
    "    if _ == 0:\n",
    "        model_m.fit(first_user,R.fillna(0))\n",
    "        model_u.fit(model_m.coef_.T,R.fillna(0))\n",
    "    else :\n",
    "        model_m.fit(model_u.coef_,R.fillna(0))\n",
    "        model_u.fit(model_m.coef_,R.fillna(0))"
   ]
  },
  {
   "cell_type": "code",
   "execution_count": 104,
   "metadata": {},
   "outputs": [
    {
     "data": {
      "text/plain": [
       "(471548, 873)"
      ]
     },
     "execution_count": 104,
     "metadata": {},
     "output_type": "execute_result"
    }
   ],
   "source": [
    "R.shape"
   ]
  },
  {
   "cell_type": "code",
   "execution_count": 20,
   "metadata": {},
   "outputs": [
    {
     "data": {
      "text/plain": [
       "array([[ 0.37129005],\n",
       "       [ 0.72004987],\n",
       "       [-0.94953849]])"
      ]
     },
     "execution_count": 20,
     "metadata": {},
     "output_type": "execute_result"
    }
   ],
   "source": [
    "np.matmul(np.random.random((3,5))-np.random.random((3,5)),np.random.random((5,1)))"
   ]
  },
  {
   "cell_type": "code",
   "execution_count": 112,
   "metadata": {},
   "outputs": [
    {
     "data": {
      "text/plain": [
       "(471548, 3)"
      ]
     },
     "execution_count": 112,
     "metadata": {},
     "output_type": "execute_result"
    }
   ],
   "source": [
    "first_user.shape"
   ]
  },
  {
   "cell_type": "markdown",
   "metadata": {},
   "source": [
    "---"
   ]
  },
  {
   "cell_type": "markdown",
   "metadata": {},
   "source": [
    "### Linear regression reminder"
   ]
  },
  {
   "cell_type": "code",
   "execution_count": 88,
   "metadata": {},
   "outputs": [
    {
     "data": {
      "text/plain": [
       "<matplotlib.collections.PathCollection at 0x177d22600>"
      ]
     },
     "execution_count": 88,
     "metadata": {},
     "output_type": "execute_result"
    }
   ],
   "source": [
    "# y_hat = theta_0 + (theta_1 * x)\n",
    "\n",
    "x = np.arange(0,10,0.1)\n",
    "y = x + np.random.random((len(x)))*np.sin(x)\n",
    "\n",
    "fig,axs = plt.subplots(1,2,figsize=(12,4))\n",
    "\n",
    "step = 0.005\n",
    "thetas = np.array([[5],[-1.5]])\n",
    "A = np.array([np.ones(len(x)),x]).T\n",
    "\n",
    "axs[0].scatter(x,np.matmul(A,thetas))\n",
    "axs[0].scatter(x,y)\n",
    "\n",
    "for _ in range(10000):\n",
    "    y_hat = np.matmul(A,thetas)\n",
    "    loss = np.sqrt(np.square(y_hat - y.reshape((len(y),1))).sum()) / (2*len(y))\n",
    "    loss_p = - ( ( A.T ).dot( y.reshape((len(y),1)) - y_hat )  ) / len(y)\n",
    "    thetas -= step * loss_p\n",
    "\n",
    "axs[1].scatter(x,np.matmul(A,thetas))\n",
    "axs[1].scatter(x,y)"
   ]
  },
  {
   "cell_type": "code",
   "execution_count": 56,
   "metadata": {},
   "outputs": [],
   "source": [
    "y_hat = np.matmul(A,x.T)\n",
    "y_hat.shape"
   ]
  },
  {
   "cell_type": "code",
   "execution_count": 13,
   "metadata": {},
   "outputs": [],
   "source": [
    "A = np.array([[1,4],[2,5],[3,8]])\n",
    "b = np.array([[2],[4],[6]])"
   ]
  },
  {
   "cell_type": "code",
   "execution_count": 12,
   "metadata": {},
   "outputs": [
    {
     "data": {
      "text/plain": [
       "[<matplotlib.lines.Line2D at 0x176b37a40>]"
      ]
     },
     "execution_count": 12,
     "metadata": {},
     "output_type": "execute_result"
    }
   ],
   "source": [
    "plt.plot(A[:,0],A[:,1])"
   ]
  },
  {
   "cell_type": "code",
   "execution_count": 31,
   "metadata": {},
   "outputs": [],
   "source": [
    "x = linear_regression(A,b,epochs=1000)"
   ]
  },
  {
   "cell_type": "code",
   "execution_count": 32,
   "metadata": {},
   "outputs": [
    {
     "data": {
      "text/plain": [
       "array([[-0.12320073],\n",
       "       [ 0.13248168],\n",
       "       [ 0.13557533]])"
      ]
     },
     "execution_count": 32,
     "metadata": {},
     "output_type": "execute_result"
    }
   ],
   "source": [
    "np.matmul(A,x)"
   ]
  }
 ],
 "metadata": {
  "kernelspec": {
   "display_name": "jedha-netflix",
   "language": "python",
   "name": "python3"
  },
  "language_info": {
   "codemirror_mode": {
    "name": "ipython",
    "version": 3
   },
   "file_extension": ".py",
   "mimetype": "text/x-python",
   "name": "python",
   "nbconvert_exporter": "python",
   "pygments_lexer": "ipython3",
   "version": "3.12.2"
  }
 },
 "nbformat": 4,
 "nbformat_minor": 2
}
